{
 "cells": [
  {
   "cell_type": "code",
   "execution_count": null,
   "metadata": {},
   "outputs": [],
   "source": [
    "import os\n",
    "import png\n",
    "import pydicom\n",
    "import numpy as np\n",
    "import matplotlib.pyplot as plt\n",
    "from IPython.display import display"
   ]
  },
  {
   "cell_type": "code",
   "execution_count": null,
   "metadata": {},
   "outputs": [],
   "source": [
    "def get_pixels_hu(scan):\n",
    "    # scanは2次元配列であってほしい\n",
    "    image = np.array(scan)\n",
    "    display(image)\n",
    "    # Convert to int16 (from sometimes int16), \n",
    "    # should be possible as values should always be low enough (<32k)\n",
    "    image = image.astype(np.int16)\n",
    "\n",
    "    # Set outside-of-scan pixels to 1\n",
    "    # The intercept is usually -1024, so air is approximately 0\n",
    "    image[image == -2000] = 0\n",
    "    \n",
    "    display(image)\n",
    "    \n",
    "    # Convert to Hounsfield units (HU)\n",
    "    dicomread = pydicom.read_file(ct_file_path)\n",
    "    intercept = dicomread.RescaleIntercept\n",
    "    slope = dicomread.RescaleSlope\n",
    "    \n",
    "    if slope != 1:\n",
    "        image = slope * image.astype(np.float64)\n",
    "        image = image.astype(np.int16)\n",
    "        \n",
    "    image += np.int16(intercept)\n",
    "    \n",
    "    return np.array(image, dtype=np.int16)"
   ]
  },
  {
   "cell_type": "code",
   "execution_count": null,
   "metadata": {},
   "outputs": [],
   "source": [
    "def ct_to_png(ct_file_path, png_file_path):\n",
    "    plan = pydicom.read_file(ct_file_path)\n",
    "    shape = plan.pixel_array.shape\n",
    "    image_2d = []\n",
    "    max_val = 0\n",
    "    \n",
    "    for row in plan.pixel_array:\n",
    "        pixels = []\n",
    "        for col in row:\n",
    "            pixels.append(col)\n",
    "            if col < max_val:\n",
    "                max_val = col\n",
    "        image_2d.append(pixels)\n",
    "    \n",
    "    image_2d_HU = get_pixels_hu(image_2d)\n",
    "\n",
    "    fig = plt.figure(figsize=(10, 10))\n",
    "    \n",
    "    ax = plt.subplot()\n",
    "    ax.tick_params(labelbottom= False, bottom=False) # x軸の削除\n",
    "    ax.tick_params(labelleft=False,left=False) # y軸の削除\n",
    "    \n",
    "    plt.imshow(image_2d_HU, cmap = 'gray')\n",
    "    plt.savefig(\"testtest.png\", bbox_inches=\"tight\", pad_inches=0.0)\n",
    "    \n",
    "    \n",
    "    \n",
    "    '''\n",
    "    # Rescalling greyscale between 0-255\n",
    "    image_2d_scaled = []\n",
    "    for row in image_2d:\n",
    "        row_scaled = []\n",
    "        for col in row:\n",
    "            col_scaled = max(0, int((float(col)/float(max_val))*255.0))\n",
    "            row_scaled.append(col_scaled)\n",
    "        image_2d_scaled.append(row_scaled)\n",
    " \n",
    "    # Writing the PNG file   \n",
    "    f = open(png_file_path, 'wb')\n",
    "    w = png.Writer(shape[0], shape[1], greyscale=True)\n",
    "    w.write(f, image_2d_scaled)\n",
    "    f.close()\n",
    "    \n",
    "    '''"
   ]
  },
  {
   "cell_type": "code",
   "execution_count": null,
   "metadata": {
    "scrolled": false
   },
   "outputs": [],
   "source": [
    "ct_file_path = 'test.dcm'\n",
    "png_file_path = 'test.png'\n",
    "ct_to_png(ct_file_path, png_file_path)"
   ]
  },
  {
   "cell_type": "code",
   "execution_count": null,
   "metadata": {},
   "outputs": [],
   "source": []
  },
  {
   "cell_type": "code",
   "execution_count": null,
   "metadata": {},
   "outputs": [],
   "source": []
  }
 ],
 "metadata": {
  "anaconda-cloud": {},
  "kernelspec": {
   "display_name": "Python [default]",
   "language": "python",
   "name": "python3"
  },
  "language_info": {
   "codemirror_mode": {
    "name": "ipython",
    "version": 3
   },
   "file_extension": ".py",
   "mimetype": "text/x-python",
   "name": "python",
   "nbconvert_exporter": "python",
   "pygments_lexer": "ipython3",
   "version": "3.5.4"
  }
 },
 "nbformat": 4,
 "nbformat_minor": 2
}
