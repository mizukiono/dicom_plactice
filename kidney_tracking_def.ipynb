{
 "cells": [
  {
   "cell_type": "code",
   "execution_count": null,
   "metadata": {},
   "outputs": [],
   "source": [
    "import cv2\n",
    "import numpy as np\n",
    "import sys\n",
    "import datetime\n",
    "import pydicom\n",
    "import time"
   ]
  },
  {
   "cell_type": "code",
   "execution_count": null,
   "metadata": {},
   "outputs": [],
   "source": [
    "def tracking_MEDIANFLOW(videofile, fps, save = False):\n",
    "    # trackerのしくみを決める\n",
    "    tracker_type = 'MEDIANFLOW'\n",
    "    tracker = cv2.TrackerMedianFlow_create()\n",
    "    \n",
    "    # Read Video(sizeは512x512を推奨)\n",
    "    video = cv2.VideoCapture(videofile)\n",
    "    \n",
    "    now = datetime.datetime.now()\n",
    "    timestamp = '{0:%Y%m%d_%H%M%S}'.format(now)\n",
    "    \n",
    "    # Output setting\n",
    "    fourcc = cv2.VideoWriter_fourcc(*'DIVX')\n",
    "    if save == True:\n",
    "        out = cv2.VideoWriter('tracking_output_%s.mp4'%timestamp, fourcc , fps, (512,512))\n",
    "    \n",
    "    # Exit if video not opened.\n",
    "    if not video.isOpened():\n",
    "        print(\"Could not open video\")\n",
    "        sys.exit()\n",
    "        \n",
    "    # Read first frame\n",
    "    ok, frame = video.read()\n",
    "    if not ok:\n",
    "        print(\"Cannot read the video file\")\n",
    "        sys.exit()\n",
    "    \n",
    "    # Define an initial bouding box\n",
    "    bbox = (144, 295, 60, 40)\n",
    "        \n",
    "    # Initialize tracker with first frame and bounding box\n",
    "    ok = tracker.init(frame, bbox)\n",
    "    \n",
    "\n",
    "    while True:\n",
    "        # read a new frame\n",
    "        ok, frame = video.read()\n",
    "        if not ok:\n",
    "            time.sleep(2)\n",
    "            break\n",
    "\n",
    "        # start timer\n",
    "        timer = cv2.getTickCount()\n",
    "\n",
    "        # update tracker\n",
    "        ok, bbox = tracker.update(frame)\n",
    "\n",
    "        #calculate frames per second (FPS)\n",
    "        fps = cv2.getTickFrequency() / (cv2.getTickCount() - timer)\n",
    "\n",
    "        # Draw bouding box\n",
    "        if ok:\n",
    "            # Tracking success\n",
    "            p1 = (int(bbox[0]), int(bbox[1]))\n",
    "            p2 = (int(bbox[0] + bbox[2]), int(bbox[1] + bbox[3]))\n",
    "            cv2.rectangle(frame, p1, p2, (255, 0, 0), 2, 1)\n",
    "        else:\n",
    "            # Tracking failure\n",
    "            cv2.putText(frame, \"Tracking failure detected\", (100, 80), cv2.FONT_HERSHEY_SIMPLEX, 0.75,(0,0,255),2)\n",
    "\n",
    "        # Display tracker type on frame\n",
    "        cv2.putText(frame, tracker_type + \" Tracker\", (100,20), cv2.FONT_HERSHEY_SIMPLEX, 0.75, (50,170,50),2)\n",
    "\n",
    "        # Display FPS on frame\n",
    "        cv2.putText(frame, \"FPS : \" + str(int(fps)), (100,50), cv2.FONT_HERSHEY_SIMPLEX, 0.75, (50,170,50), 2)\n",
    "\n",
    "        # Display result\n",
    "        cv2.imshow(\"Tracking\", frame)\n",
    "\n",
    "        # Save result as movie file\n",
    "        if save == True:\n",
    "            out.write(frame)\n",
    "\n",
    "        #Exit if ESC pressed\n",
    "        k = cv2.waitKey(1) & 0xff\n",
    "        if k == 27:\n",
    "            break\n",
    "    \n",
    "    # When everything done, release the capture\n",
    "    video.release()\n",
    "    if save == True:\n",
    "        out.release()\n",
    "    cv2.destroyAllWindows()"
   ]
  },
  {
   "cell_type": "code",
   "execution_count": null,
   "metadata": {},
   "outputs": [],
   "source": [
    "#　絶対パスで指定したらうまくいった……\n",
    "tracking_MEDIANFLOW('D:/J-comet/Radiology/dicom/ct_track_code/dicom_images_for_test/jpgs/img_%03d.jpg' , fps = 2.0, save = True)"
   ]
  },
  {
   "cell_type": "code",
   "execution_count": null,
   "metadata": {},
   "outputs": [],
   "source": [
    "video_input = cv2.VideoCapture('/dicom_image_for_test/jpgs/img_%03d.jpg')\n",
    "video_input.isOpened()"
   ]
  },
  {
   "cell_type": "code",
   "execution_count": null,
   "metadata": {},
   "outputs": [],
   "source": []
  }
 ],
 "metadata": {
  "anaconda-cloud": {},
  "kernelspec": {
   "display_name": "Python [default]",
   "language": "python",
   "name": "python3"
  },
  "language_info": {
   "codemirror_mode": {
    "name": "ipython",
    "version": 3
   },
   "file_extension": ".py",
   "mimetype": "text/x-python",
   "name": "python",
   "nbconvert_exporter": "python",
   "pygments_lexer": "ipython3",
   "version": "3.5.4"
  }
 },
 "nbformat": 4,
 "nbformat_minor": 2
}
